{
 "cells": [
  {
   "cell_type": "markdown",
   "metadata": {},
   "source": [
    "Simulace casino rulety\n",
    "18x red\n",
    "18x black\n",
    "1x green\n",
    "\n",
    "při výhře dostáváte 200 procent vsazené částky zpět"
   ]
  },
  {
   "cell_type": "code",
   "execution_count": 2,
   "metadata": {},
   "outputs": [],
   "source": [
    "%run main.py"
   ]
  },
  {
   "cell_type": "markdown",
   "metadata": {},
   "source": [
    "spustíme zde kód z main.py, který má v sobě všechny potřebné věci pro tento projekt"
   ]
  },
  {
   "cell_type": "code",
   "execution_count": 3,
   "metadata": {},
   "outputs": [],
   "source": [
    "n_turns=100 #number of turn of rulet\n",
    "n_players=1000 #number of players"
   ]
  },
  {
   "cell_type": "code",
   "execution_count": 4,
   "metadata": {},
   "outputs": [],
   "source": [
    "money=1000\n",
    "\n",
    "players = []\n",
    "#create players\n",
    "for i in range(n_players):\n",
    "    players.append(player(money=money))\n",
    "\n",
    "history=create_history(players, n_turns)\n",
    "\n",
    "ids=[p.id for p in players]"
   ]
  },
  {
   "cell_type": "markdown",
   "metadata": {},
   "source": [
    "create history vezme hráče, které jsme si vyrobili a nechá je vstoupit do kasina jejjich výsledky budou vidět v history pod jejich id\n",
    "\n",
    "players jsou hráči, kteří sází stále 10 na náhodnou barvu, popřípadě hráči definovaní v _main.py_"
   ]
  },
  {
   "cell_type": "markdown",
   "metadata": {},
   "source": [
    "--- \n",
    "### superhráči\n",
    "\n",
    "hráči jejichž logiku si můžeme upravovat"
   ]
  },
  {
   "cell_type": "code",
   "execution_count": 5,
   "metadata": {},
   "outputs": [],
   "source": [
    "class superPlayer(player):\n",
    "    def __init__(self, money):\n",
    "        super().__init__(money)\n",
    "        self.next_play='red'\n",
    "        self.last_play='red'\n",
    "        self.next_bet=1\n",
    "        self.last_bet=1\n",
    "\n",
    "    def on_win(self):\n",
    "        self.last_bet=self.next_bet\n",
    "        self.next_bet=1\n",
    "        self.next_play='red' if self.last_play=='black' else 'black'\n",
    "\n",
    "    def on_lose(self):\n",
    "        self.last_bet=self.next_bet\n",
    "        self.next_bet=self.last_bet*2\n",
    "\n",
    "    def make_decision(self):\n",
    "        return self.next_play, self.next_bet"
   ]
  },
  {
   "cell_type": "code",
   "execution_count": 7,
   "metadata": {},
   "outputs": [],
   "source": [
    "money2=1000\n",
    "\n",
    "players2 = []\n",
    "#create players\n",
    "for i in range(n_players):\n",
    "    players2.append(superPlayer(money=money2))\n",
    "\n",
    "history2=create_history(players2, n_turns)\n",
    "\n",
    "ids2=[p.id for p in players2]"
   ]
  },
  {
   "cell_type": "markdown",
   "metadata": {},
   "source": [
    "history2 je historie \"superHráčů\""
   ]
  },
  {
   "cell_type": "markdown",
   "metadata": {},
   "source": [
    "# Samotná analýza\n",
    "----------------------"
   ]
  },
  {
   "cell_type": "markdown",
   "metadata": {},
   "source": [
    "Prvně se podíváme na distribuci výsledků našeho generátoru, abychom zjistili, že vše funguje v pořádku,\n",
    "na grafu uvidíme v kolika případech padla červená, v kolika černá a v kolika zelená\n",
    "\n",
    "V dokonalém matematickém světě by měla být distribuce:\n",
    "\n",
    "| barva | pravděpodobnost|\n",
    "|---|---|\n",
    "| zelená | 2,7% |\n",
    "|červená | 48,65% |\n",
    "| černá | 48,65% |"
   ]
  },
  {
   "cell_type": "markdown",
   "metadata": {},
   "source": [
    "u nás to vypadá takto:"
   ]
  },
  {
   "cell_type": "code",
   "execution_count": 8,
   "metadata": {},
   "outputs": [
    {
     "data": {
      "text/plain": [
       "Text(0.5, 1.0, 'distribution for players 2')"
      ]
     },
     "execution_count": 8,
     "metadata": {},
     "output_type": "execute_result"
    },
    {
     "data": {
      "image/png": "[encoded data removed]",
      "text/plain": [
       "<Figure size 640x480 with 2 Axes>"
      ]
     },
     "metadata": {},
     "output_type": "display_data"
    }
   ],
   "source": [
    "fig, ax = plt.subplots(1,2)\n",
    "\n",
    "wins=[turn[id]['won'] for id in ids for turn in history]\n",
    "ax[0].pie([wins.count('red'), wins.count('black'), wins.count('green')],\n",
    "        colors=['red', 'black', 'green'],\n",
    "        autopct='%1.1f%%',\n",
    "        pctdistance=1.25,\n",
    "        labeldistance=.6)\n",
    "ax[0].set_title('distribution for players 1')\n",
    "\n",
    "wins=[turn[id]['won'] for id in ids2 for turn in history2]\n",
    "ax[1].pie([wins.count('red'), wins.count('black'), wins.count('green')],\n",
    "        colors=['red', 'black', 'green'],\n",
    "        autopct='%1.1f%%',\n",
    "        pctdistance=1.25,\n",
    "        labeldistance=.6)\n",
    "ax[1].set_title('distribution for players 2')"
   ]
  },
  {
   "cell_type": "markdown",
   "metadata": {},
   "source": [
    "Poté si zjistíme kolikrát kdo vyhrál z hlediska kombinatoriky bychom se měli blížít k 50% ať je naše strategie jakákoli"
   ]
  },
  {
   "cell_type": "code",
   "execution_count": 9,
   "metadata": {},
   "outputs": [
    {
     "name": "stdout",
     "output_type": "stream",
     "text": [
      "V 0.5011 procentech her hráči jedna vyhráli.\n",
      "V 0.49901 procentech her hráči dva vyhráli.\n"
     ]
    }
   ],
   "source": [
    "is_win=[turn[id]['won']==turn[id]['tip'] for id in ids for turn in history]\n",
    "ratio=is_win.count(True)/len(is_win)\n",
    "print(f'V {ratio} procentech her hráči jedna vyhráli.')\n",
    "\n",
    "is_win=[turn[id]['won']==turn[id]['tip'] for id in ids2 for turn in history2]\n",
    "ratio=is_win.count(True)/len(is_win)\n",
    "print(f'V {ratio} procentech her hráči dva vyhráli.')"
   ]
  },
  {
   "cell_type": "markdown",
   "metadata": {},
   "source": [
    "profit hráčů na konci her v procentech"
   ]
  },
  {
   "cell_type": "code",
   "execution_count": 10,
   "metadata": {},
   "outputs": [],
   "source": [
    "profits=[]\n",
    "for id in ids:\n",
    "    profits.append((history[-1][id]['balance']-money)/money)\n",
    "\n",
    "profits2=[]\n",
    "for id in ids2:\n",
    "    profits2.append((history2[-1][id]['balance']-money2)/money2)  "
   ]
  },
  {
   "cell_type": "code",
   "execution_count": 13,
   "metadata": {},
   "outputs": [
    {
     "name": "stdout",
     "output_type": "stream",
     "text": [
      "průměr players: 0.0022, průměr players2: 0.000915\n",
      "median players: 0.0, median players2: 0.048\n"
     ]
    },
    {
     "data": {
      "image/png": "[encoded data removed]",
      "text/plain": [
       "<Figure size 640x480 with 3 Axes>"
      ]
     },
     "metadata": {},
     "output_type": "display_data"
    }
   ],
   "source": [
    "fig, ax=plt.subplots(3,1)\n",
    "\n",
    "combined=[profits, profits2]\n",
    "mean=np.array(profits).mean()\n",
    "mean2=np.array(profits2).mean()\n",
    "\n",
    "median=np.median(np.array(profits))\n",
    "median2=np.median(np.array(profits2))\n",
    "\n",
    "std = np.std(np.array(profits))\n",
    "std2 = np.std(np.array(profits2))\n",
    "\n",
    "val=mean\n",
    "val2=mean2\n",
    "\n",
    "colors=['blue', 'red']\n",
    "\n",
    "\n",
    "ax[0].hist(combined, bins=100, stacked=False, histtype='stepfilled', color=colors, alpha=0.5)\n",
    "ax[0].axvline(val, linestyle='dashed', linewidth=1, color='blue')\n",
    "ax[0].axvline(val2, linestyle='dashed', linewidth=1, color='red')\n",
    "\n",
    "ax[1].hist(profits, bins=50, histtype='stepfilled', color=colors[0])\n",
    "ax[1].axvline(val, color='k', linestyle='dashed', linewidth=1)\n",
    "ax[1].set_title(f'players')\n",
    "\n",
    "ax[2].hist(profits2, bins=50, histtype='stepfilled', color=colors[1])\n",
    "ax[2].axvline(val2, color='k', linestyle='dashed', linewidth=1)\n",
    "ax[2].set_title(f'players2')\n",
    "\n",
    "print(f'průměr players: {round(mean, 7)}, průměr players2: {round(mean2, 7)}')\n",
    "print(f'median players: {round(median, 7)}, median players2: {round(median2, 7)}')"
   ]
  },
  {
   "cell_type": "code",
   "execution_count": 17,
   "metadata": {},
   "outputs": [],
   "source": [
    "profits_ratio = [True if i>0 else False for i in profits].count(True)/len(profits)\n",
    "profits_ratio2 = [True if i>0 else False for i in profits2].count(True)/len(profits2)"
   ]
  },
  {
   "cell_type": "code",
   "execution_count": 19,
   "metadata": {},
   "outputs": [
    {
     "name": "stdout",
     "output_type": "stream",
     "text": [
      "percentage of players who profited in players: 0.486 and in players2: 0.945\n"
     ]
    }
   ],
   "source": [
    "print(f'percentage of players who profited in players: {profits_ratio} and in players2: {profits_ratio2}')"
   ]
  },
  {
   "cell_type": "code",
   "execution_count": null,
   "metadata": {},
   "outputs": [],
   "source": []
  }
 ],
 "metadata": {
  "kernelspec": {
   "display_name": "Python 3",
   "language": "python",
   "name": "python3"
  },
  "language_info": {
   "codemirror_mode": {
    "name": "ipython",
    "version": 3
   },
   "file_extension": ".py",
   "mimetype": "text/x-python",
   "name": "python",
   "nbconvert_exporter": "python",
   "pygments_lexer": "ipython3",
   "version": "3.11.4"
  }
 },
 "nbformat": 4,
 "nbformat_minor": 2
}
